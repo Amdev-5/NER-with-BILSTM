{
  "nbformat": 4,
  "nbformat_minor": 0,
  "metadata": {
    "colab": {
      "name": "BI-LSTM FOR NER.ipynb",
      "provenance": []
    },
    "kernelspec": {
      "name": "python3",
      "display_name": "Python 3"
    },
    "language_info": {
      "name": "python"
    }
  },
  "cells": [
    {
      "cell_type": "markdown",
      "metadata": {
        "id": "wC84ihOMrIVt"
      },
      "source": [
        "**BI-LSTM FOR NER**"
      ]
    },
    {
      "cell_type": "markdown",
      "metadata": {
        "id": "BwHfh7BPrrkQ"
      },
      "source": [
        "Importing basic libraries"
      ]
    },
    {
      "cell_type": "code",
      "metadata": {
        "id": "lEhLl8OcrJbY"
      },
      "source": [
        "import numpy as np\n",
        "import pandas as pd"
      ],
      "execution_count": null,
      "outputs": []
    },
    {
      "cell_type": "markdown",
      "metadata": {
        "id": "g9N_7Q2dr0B_"
      },
      "source": [
        "Importing data"
      ]
    },
    {
      "cell_type": "code",
      "metadata": {
        "id": "sy3SPk56K78i"
      },
      "source": [
        "dframe = pd.read_csv(\"ner_data.csv\", encoding = \"ISO-8859-1\", error_bad_lines=False)"
      ],
      "execution_count": null,
      "outputs": []
    },
    {
      "cell_type": "code",
      "metadata": {
        "id": "hfv2MgsQtpZ1"
      },
      "source": [
        "test = pd.read_csv(\"test_data.csv\")"
      ],
      "execution_count": null,
      "outputs": []
    },
    {
      "cell_type": "code",
      "metadata": {
        "id": "CcwezNVat1Ii"
      },
      "source": [
        "test.head(20)"
      ],
      "execution_count": null,
      "outputs": []
    },
    {
      "cell_type": "code",
      "metadata": {
        "id": "_pAk7rB9LaY4"
      },
      "source": [
        "dframe.head()"
      ],
      "execution_count": null,
      "outputs": []
    },
    {
      "cell_type": "markdown",
      "metadata": {
        "id": "cr6WZ5Ghr-s2"
      },
      "source": [
        "DATA EXPLORATION AND DATA PREPROCESSING"
      ]
    },
    {
      "cell_type": "code",
      "metadata": {
        "id": "bcNMdCufMrbA"
      },
      "source": [
        "dframe.columns"
      ],
      "execution_count": null,
      "outputs": []
    },
    {
      "cell_type": "code",
      "metadata": {
        "id": "vhjGs41OMxUs"
      },
      "source": [
        "dataset=dframe.drop(['Unnamed: 0', 'lemma', 'next-lemma', 'next-next-lemma', 'next-next-pos',\n",
        "       'next-next-shape', 'next-next-word', 'next-pos', 'next-shape',\n",
        "       'next-word', 'prev-iob', 'prev-lemma', 'prev-pos',\n",
        "       'prev-prev-iob', 'prev-prev-lemma', 'prev-prev-pos', 'prev-prev-shape',\n",
        "       'prev-prev-word','shape', 'prev-shape', 'prev-word',\"pos\"],axis=1)"
      ],
      "execution_count": null,
      "outputs": []
    },
    {
      "cell_type": "code",
      "metadata": {
        "id": "kNEOofdnM2ZV"
      },
      "source": [
        "dataset.info()"
      ],
      "execution_count": null,
      "outputs": []
    },
    {
      "cell_type": "code",
      "metadata": {
        "id": "NotehveoM-tK"
      },
      "source": [
        "dataset.head(30)"
      ],
      "execution_count": null,
      "outputs": []
    },
    {
      "cell_type": "markdown",
      "metadata": {
        "id": "RrvZFh9gOJIm"
      },
      "source": [
        "**Create list of list of tuples to differentiate each sentence from each other**"
      ]
    },
    {
      "cell_type": "code",
      "metadata": {
        "id": "Z-3HBE7ONEPG"
      },
      "source": [
        "class SentenceGetter(object):\n",
        "    \n",
        "    def __init__(self, dataset):\n",
        "        self.n_sent = 1\n",
        "        self.dataset = dataset\n",
        "        self.empty = False\n",
        "        agg_func = lambda s: [(w, t) for w,t in zip(s[\"word\"].values.tolist(),\n",
        "                                                        s[\"tag\"].values.tolist())]\n",
        "        self.grouped = self.dataset.groupby(\"sentence_idx\").apply(agg_func)\n",
        "        self.sentences = [s for s in self.grouped]\n",
        "    \n",
        "    def get_next(self):\n",
        "        try:\n",
        "            s = self.grouped[\"Sentence: {}\".format(self.n_sent)]\n",
        "            self.n_sent += 1\n",
        "            return s\n",
        "        except:\n",
        "            return None"
      ],
      "execution_count": null,
      "outputs": []
    },
    {
      "cell_type": "code",
      "metadata": {
        "id": "-q-AQamZOehZ"
      },
      "source": [
        "getter = SentenceGetter(dataset)\n",
        "getter1 = SentenceGetter(test) "
      ],
      "execution_count": null,
      "outputs": []
    },
    {
      "cell_type": "code",
      "metadata": {
        "id": "HLFlV-c4O01l"
      },
      "source": [
        "sentences = getter.sentences\n",
        "test_sentence = getter1.sentences"
      ],
      "execution_count": null,
      "outputs": []
    },
    {
      "cell_type": "code",
      "metadata": {
        "id": "_4bEsKgEO55j"
      },
      "source": [
        "print(sentences[5])\n",
        "print(test_sentence[1])"
      ],
      "execution_count": null,
      "outputs": []
    },
    {
      "cell_type": "code",
      "metadata": {
        "id": "uqvV_f1BPIqS"
      },
      "source": [
        "maxlen = max([len(s) for s in sentences])\n",
        "print ('Maximum sequence length:', maxlen)"
      ],
      "execution_count": null,
      "outputs": []
    },
    {
      "cell_type": "code",
      "metadata": {
        "id": "81d-FgznPNUz"
      },
      "source": [
        "import matplotlib.pyplot as plt\n",
        "%matplotlib inline\n",
        "plt.style.use(\"ggplot\")"
      ],
      "execution_count": null,
      "outputs": []
    },
    {
      "cell_type": "code",
      "metadata": {
        "id": "souQUGhCPQi7"
      },
      "source": [
        "plt.hist([len(s) for s in sentences], bins=50)\n",
        "plt.show()"
      ],
      "execution_count": null,
      "outputs": []
    },
    {
      "cell_type": "code",
      "metadata": {
        "id": "GylEe5tawIzW"
      },
      "source": [
        "dataset"
      ],
      "execution_count": null,
      "outputs": []
    },
    {
      "cell_type": "code",
      "metadata": {
        "id": "7e7WMZ7IwSLQ"
      },
      "source": [
        "test"
      ],
      "execution_count": null,
      "outputs": []
    },
    {
      "cell_type": "code",
      "metadata": {
        "id": "t_842Ec2PUAn"
      },
      "source": [
        "words = list(set(dataset[\"word\"].values))\n",
        "test_words = list(set(test[\"word\"].values))\n",
        "words.append(\"ENDPAD\")\n",
        "test_words.append(\"ENDPAD\")"
      ],
      "execution_count": null,
      "outputs": []
    },
    {
      "cell_type": "code",
      "metadata": {
        "id": "QOA5W1tlPXm_"
      },
      "source": [
        "n_words = len(words); n_words\n"
      ],
      "execution_count": null,
      "outputs": []
    },
    {
      "cell_type": "code",
      "metadata": {
        "id": "ZOdQx5nNw0d2"
      },
      "source": [
        "n_test_words = len(test_words); n_test_words"
      ],
      "execution_count": null,
      "outputs": []
    },
    {
      "cell_type": "code",
      "metadata": {
        "id": "T_3ki2nkPb00"
      },
      "source": [
        "tags = list(set(dataset[\"tag\"].values))\n",
        "test_tags = list(set(test[\"tag\"].values))\n"
      ],
      "execution_count": null,
      "outputs": []
    },
    {
      "cell_type": "code",
      "metadata": {
        "id": "1yjyhPR3PhS_"
      },
      "source": [
        "n_tags = len(tags); n_tags"
      ],
      "execution_count": null,
      "outputs": []
    },
    {
      "cell_type": "code",
      "metadata": {
        "id": "1JFgXkUlxOdx"
      },
      "source": [
        "n_test_tags = len(test_tags); n_test_tags"
      ],
      "execution_count": null,
      "outputs": []
    },
    {
      "cell_type": "markdown",
      "metadata": {
        "id": "W7VPj-r0PmJW"
      },
      "source": [
        "Converting words to numbers and numbers to words"
      ]
    },
    {
      "cell_type": "code",
      "metadata": {
        "id": "yLt25kiLPqB8"
      },
      "source": [
        "word2idx = {w: i for i, w in enumerate(words)}\n",
        "tag2idx = {t: i for i, t in enumerate(tags)}\n",
        "word2idx_test = {w: i for i, w in enumerate(test_words)}\n",
        "tag2idx_test = {t: i for i, t in enumerate(test_tags)}"
      ],
      "execution_count": null,
      "outputs": []
    },
    {
      "cell_type": "code",
      "metadata": {
        "id": "ELYmD6IvgIKP"
      },
      "source": [
        "word2idx['Obama']"
      ],
      "execution_count": null,
      "outputs": []
    },
    {
      "cell_type": "code",
      "metadata": {
        "id": "C3TMFJpWgLTD"
      },
      "source": [
        "tag2idx[\"O\"]"
      ],
      "execution_count": null,
      "outputs": []
    },
    {
      "cell_type": "code",
      "metadata": {
        "id": "AWtFnbBugOCu"
      },
      "source": [
        "from keras.preprocessing.sequence import pad_sequences\n",
        "X = [[word2idx[w[0]] for w in s] for s in sentences]"
      ],
      "execution_count": null,
      "outputs": []
    },
    {
      "cell_type": "code",
      "metadata": {
        "id": "yDJZnl7Ex9Gh"
      },
      "source": [
        "from keras.preprocessing.sequence import pad_sequences\n",
        "X_test = [[word2idx_test[w[0]] for w in s] for s in test_sentence]"
      ],
      "execution_count": null,
      "outputs": []
    },
    {
      "cell_type": "code",
      "metadata": {
        "id": "6XeQT341gSLS"
      },
      "source": [
        "X = pad_sequences(maxlen=140, sequences=X, padding=\"post\",value=n_words - 1)"
      ],
      "execution_count": null,
      "outputs": []
    },
    {
      "cell_type": "code",
      "metadata": {
        "id": "07lRmF8UyTU7"
      },
      "source": [
        "X_test_t = pad_sequences(maxlen=140, sequences=X_test, padding=\"post\",value=n_words - 1)"
      ],
      "execution_count": null,
      "outputs": []
    },
    {
      "cell_type": "code",
      "metadata": {
        "id": "KqYZV9nsgVRn"
      },
      "source": [
        "y = [[tag2idx[w[1]] for w in s] for s in sentences]"
      ],
      "execution_count": null,
      "outputs": []
    },
    {
      "cell_type": "code",
      "metadata": {
        "id": "hqRteZUSyf74"
      },
      "source": [
        "y_test = [[tag2idx_test[w[1]] for w in s] for s in test_sentence]"
      ],
      "execution_count": null,
      "outputs": []
    },
    {
      "cell_type": "code",
      "metadata": {
        "id": "ocXmXdTXgWRk"
      },
      "source": [
        "y = pad_sequences(maxlen=140, sequences=y, padding=\"post\", value=tag2idx[\"O\"])"
      ],
      "execution_count": null,
      "outputs": []
    },
    {
      "cell_type": "code",
      "metadata": {
        "id": "SzNAxw2LyyxA"
      },
      "source": [
        "y_test_t = pad_sequences(maxlen=140, sequences=y_test, padding=\"post\", value=tag2idx_test[\"O\"])"
      ],
      "execution_count": null,
      "outputs": []
    },
    {
      "cell_type": "code",
      "metadata": {
        "id": "_jXjOfDugYVX"
      },
      "source": [
        "from keras.utils import to_categorical\n",
        "y = [to_categorical(i, num_classes=n_tags) for i in y]"
      ],
      "execution_count": null,
      "outputs": []
    },
    {
      "cell_type": "code",
      "metadata": {
        "id": "saSIpKKizA6j"
      },
      "source": [
        "from keras.utils import to_categorical\n",
        "y_test_t = [to_categorical(i, num_classes=n_test_tags) for i in y_test_t]"
      ],
      "execution_count": null,
      "outputs": []
    },
    {
      "cell_type": "code",
      "metadata": {
        "id": "quMI20X56ptG"
      },
      "source": [
        "X_test_t\n"
      ],
      "execution_count": null,
      "outputs": []
    },
    {
      "cell_type": "code",
      "metadata": {
        "id": "evcfIJVU7Fw2"
      },
      "source": [
        "X_test"
      ],
      "execution_count": null,
      "outputs": []
    },
    {
      "cell_type": "code",
      "metadata": {
        "id": "yzkQlekl61kO"
      },
      "source": [
        "y_test_t"
      ],
      "execution_count": null,
      "outputs": []
    },
    {
      "cell_type": "code",
      "metadata": {
        "id": "stf2Qhr_gfbF"
      },
      "source": [
        "from sklearn.model_selection import train_test_split\n",
        "X_train, X_test, y_train, y_test = train_test_split(X, y, test_size=0.2)"
      ],
      "execution_count": null,
      "outputs": []
    },
    {
      "cell_type": "code",
      "metadata": {
        "id": "x9U1pu-mghqO"
      },
      "source": [
        "from keras.models import Model, Input\n",
        "from keras.layers import LSTM, Embedding, Dense, TimeDistributed, Dropout, Bidirectional"
      ],
      "execution_count": null,
      "outputs": []
    },
    {
      "cell_type": "code",
      "metadata": {
        "id": "BaPN5ogggkgH"
      },
      "source": [
        "input = Input(shape=(140,))\n",
        "model = Embedding(input_dim=n_words, output_dim=140, input_length=140)(input)\n",
        "model = Dropout(0.1)(model)\n",
        "model = Bidirectional(LSTM(units=100, return_sequences=True, recurrent_dropout=0.1))(model)\n",
        "out = TimeDistributed(Dense(n_tags, activation=\"softmax\"))(model)  # softmax output layer"
      ],
      "execution_count": null,
      "outputs": []
    },
    {
      "cell_type": "code",
      "metadata": {
        "id": "AlF6ZzcLgmjE"
      },
      "source": [
        "model = Model(input, out)"
      ],
      "execution_count": null,
      "outputs": []
    },
    {
      "cell_type": "code",
      "metadata": {
        "id": "KrD9_AjggoTJ"
      },
      "source": [
        "model.compile(optimizer=\"adam\", loss=\"categorical_crossentropy\", metrics=[\"accuracy\"])"
      ],
      "execution_count": null,
      "outputs": []
    },
    {
      "cell_type": "code",
      "metadata": {
        "id": "xe41mGKXXzUS"
      },
      "source": [
        "X_test"
      ],
      "execution_count": null,
      "outputs": []
    },
    {
      "cell_type": "code",
      "metadata": {
        "id": "WFPTkU5agq8Y"
      },
      "source": [
        "history = model.fit(X_train, np.array(y_train), batch_size=32, epochs=4, validation_split=0.2, verbose=1)"
      ],
      "execution_count": null,
      "outputs": []
    },
    {
      "cell_type": "code",
      "metadata": {
        "id": "ldwo0h6_gt_z"
      },
      "source": [
        "model.predict(y_test)"
      ],
      "execution_count": null,
      "outputs": []
    },
    {
      "cell_type": "code",
      "metadata": {
        "id": "IyMIZ3opg82s"
      },
      "source": [
        "model.summary()"
      ],
      "execution_count": null,
      "outputs": []
    },
    {
      "cell_type": "code",
      "metadata": {
        "id": "tPIOeWohrGOo"
      },
      "source": [
        ""
      ],
      "execution_count": null,
      "outputs": []
    }
  ]
}